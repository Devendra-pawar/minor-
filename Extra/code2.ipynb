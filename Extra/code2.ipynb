{
 "cells": [
  {
   "cell_type": "markdown",
   "metadata": {},
   "source": [
    "# Minor project"
   ]
  },
  {
   "cell_type": "markdown",
   "metadata": {},
   "source": []
  },
  {
   "cell_type": "markdown",
   "metadata": {},
   "source": [
    "Scraping the Cartrade website by python"
   ]
  },
  {
   "cell_type": "code",
   "execution_count": 1,
   "metadata": {},
   "outputs": [
    {
     "name": "stdout",
     "output_type": "stream",
     "text": [
      "Importing done\n"
     ]
    }
   ],
   "source": [
    "# importing required libraries\n",
    "import requests \n",
    "from bs4 import BeautifulSoup\n",
    "from csv import writer\n",
    "import openpyxl\n",
    "import pandas\n",
    "print(\"Importing done\")"
   ]
  },
  {
   "cell_type": "markdown",
   "metadata": {},
   "source": [
    "brands\n"
   ]
  },
  {
   "cell_type": "code",
   "execution_count": 2,
   "metadata": {},
   "outputs": [
    {
     "name": "stdout",
     "output_type": "stream",
     "text": [
      "This is the website: https://www.cartrade.com/\n"
     ]
    }
   ],
   "source": [
    "url1 = \"https://www.cartrade.com/\"\n",
    "print(f'This is the website: {url1}')"
   ]
  },
  {
   "cell_type": "code",
   "execution_count": 3,
   "metadata": {},
   "outputs": [
    {
     "data": {
      "text/plain": [
       "200"
      ]
     },
     "execution_count": 3,
     "metadata": {},
     "output_type": "execute_result"
    }
   ],
   "source": [
    "r = requests.get(url1)\n",
    "r.status_code\n"
   ]
  },
  {
   "cell_type": "code",
   "execution_count": 4,
   "metadata": {},
   "outputs": [],
   "source": [
    "soup = BeautifulSoup(r.content,'html.parser')"
   ]
  },
  {
   "cell_type": "code",
   "execution_count": 5,
   "metadata": {},
   "outputs": [
    {
     "data": {
      "text/plain": [
       "41"
      ]
     },
     "execution_count": 5,
     "metadata": {},
     "output_type": "execute_result"
    }
   ],
   "source": [
    "link1 = \"logo_brnds\"\n",
    "cars = soup.find_all('div', class_=link1)\n",
    "# cars\n",
    "len(cars)\n",
    "# cars.get_text()"
   ]
  },
  {
   "cell_type": "code",
   "execution_count": 6,
   "metadata": {},
   "outputs": [
    {
     "name": "stdout",
     "output_type": "stream",
     "text": [
      "['Maruti Suzuki', 'Tata', 'Hyundai', 'Mahindra', 'BMW', 'Toyota', 'Mercedes-Benz', 'Land Rover', 'Kia', 'Honda', 'Audi', 'Volkswagen', 'Skoda', 'Jaguar', 'MG', 'Rolls-Royce', 'Renault', 'Jeep', 'Volvo', 'Nissan', 'Lamborghini', 'Porsche', 'Tesla', 'MINI', 'Lexus', 'Ferrari', 'Mitsubishi', 'Citroen', 'Isuzu', 'Maserati', 'Bugatti', 'Aston Martin', 'Bentley', 'Datsun', 'McLaren', 'Force Motors', 'Haval', 'Mean Metal Motors', 'BYD', 'Fisker', 'OLA']\n"
     ]
    }
   ],
   "source": [
    "names = []\n",
    "for name in cars:\n",
    "    names.append(name.get_text())\n",
    "# a = \" ,\".join(names)\n",
    "print(names)\n",
    "\n"
   ]
  },
  {
   "cell_type": "code",
   "execution_count": 7,
   "metadata": {},
   "outputs": [
    {
     "name": "stdout",
     "output_type": "stream",
     "text": [
      "All Brands name are in Brand_name.csv file\n"
     ]
    }
   ],
   "source": [
    "with open(\"Brands_name.csv\",\"w\",encoding=\"utf8\", newline=\"\")as file:\n",
    " Writer = writer(file)\n",
    " header = [\"Brands name:\"]\n",
    " Writer.writerow(header)\n",
    "#  for i in names :\n",
    "#       Writer.writerow(i)\n",
    " Writer.writerow(names)\n",
    "\n",
    "print(\"All Brands name are in Brand_name.csv file\")"
   ]
  },
  {
   "cell_type": "markdown",
   "metadata": {},
   "source": [
    "first part done\n"
   ]
  },
  {
   "cell_type": "markdown",
   "metadata": {},
   "source": [
    "-------------------------------------------------------"
   ]
  },
  {
   "cell_type": "markdown",
   "metadata": {},
   "source": [
    "models\n"
   ]
  },
  {
   "cell_type": "markdown",
   "metadata": {},
   "source": []
  },
  {
   "cell_type": "code",
   "execution_count": 8,
   "metadata": {},
   "outputs": [
    {
     "name": "stdout",
     "output_type": "stream",
     "text": [
      "selected Brands name is tata\n"
     ]
    }
   ],
   "source": [
    "Brands_name = input(\"Enter the selected Brands name :\")\n",
    "print(\"selected Brands name is\" ,Brands_name)"
   ]
  },
  {
   "cell_type": "code",
   "execution_count": 9,
   "metadata": {},
   "outputs": [
    {
     "name": "stdout",
     "output_type": "stream",
     "text": [
      "This is the website: https://www.cartrade.com/tata-cars/\n"
     ]
    }
   ],
   "source": [
    "url2 = \"https://www.cartrade.com/\"+ Brands_name + \"-cars/\"\n",
    "print(f'This is the website: {url2}')"
   ]
  },
  {
   "cell_type": "code",
   "execution_count": 10,
   "metadata": {},
   "outputs": [
    {
     "data": {
      "text/plain": [
       "200"
      ]
     },
     "execution_count": 10,
     "metadata": {},
     "output_type": "execute_result"
    }
   ],
   "source": [
    "r = requests.get(url2)\n",
    "r.status_code"
   ]
  },
  {
   "cell_type": "code",
   "execution_count": 11,
   "metadata": {},
   "outputs": [],
   "source": [
    "soup = BeautifulSoup(r.content,'html.parser')"
   ]
  },
  {
   "cell_type": "code",
   "execution_count": 12,
   "metadata": {},
   "outputs": [
    {
     "data": {
      "text/plain": [
       "13"
      ]
     },
     "execution_count": 12,
     "metadata": {},
     "output_type": "execute_result"
    }
   ],
   "source": [
    "link1 = \"carBrands_list\"\n",
    "cars = soup.find_all('div', class_=link1)\n",
    "# cars\n",
    "len(cars)\n",
    "# cars.get_text()"
   ]
  },
  {
   "cell_type": "code",
   "execution_count": 13,
   "metadata": {},
   "outputs": [
    {
     "name": "stdout",
     "output_type": "stream",
     "text": [
      "['Tata Tiago', 'Tata Punch', 'Tata Tigor', 'Tata Altroz', 'Tata Tiago NRG', 'Tata Nexon', 'Tata Tigor EV', 'Tata Harrier', 'Tata Nexon EV', 'Tata Nexon EV Prime', 'Tata Safari', 'Tata Nexon EV Max']\n",
      "this are the names of model\n"
     ]
    }
   ],
   "source": [
    "c = []\n",
    "for name in cars:  \n",
    "  a = name.find(\"div\", class_=\"makeblktlt\")\n",
    "    \n",
    "  if a != None:\n",
    "    b = a.get_text()\n",
    "    # print(b)\n",
    "    if b != None:\n",
    "       c.append(b)\n",
    "print(c)\n",
    "print(\"this are the names of model\")\n",
    "\n",
    "# name = movie.find('td', class_='titleColumn').a.text"
   ]
  },
  {
   "cell_type": "code",
   "execution_count": 14,
   "metadata": {},
   "outputs": [
    {
     "name": "stdout",
     "output_type": "stream",
     "text": [
      "All model name are in Model_name.csv file\n"
     ]
    }
   ],
   "source": [
    "with open(\"Model_name.csv\",\"w\",encoding=\"utf8\", newline=\"\")as file:\n",
    " Writer = writer(file)\n",
    " header = [\"Model name:\"]\n",
    " Writer.writerow(header)\n",
    "#  for i in names :\n",
    "#       Writer.writerow(i)\n",
    " Writer.writerow(c)\n",
    "\n",
    "print(\"All model name are in Model_name.csv file\")"
   ]
  },
  {
   "cell_type": "markdown",
   "metadata": {},
   "source": []
  },
  {
   "cell_type": "markdown",
   "metadata": {},
   "source": []
  },
  {
   "cell_type": "markdown",
   "metadata": {},
   "source": []
  },
  {
   "cell_type": "markdown",
   "metadata": {},
   "source": [
    "cars"
   ]
  },
  {
   "cell_type": "markdown",
   "metadata": {},
   "source": [
    "Car Examples-"
   ]
  },
  {
   "cell_type": "code",
   "execution_count": 15,
   "metadata": {},
   "outputs": [],
   "source": [
    "# company_name = input(\"Enter the brand name of the car: \")\n",
    "# model_name = input(\"Enter the model name of the car: \")\n",
    "\n",
    "\n",
    "company_name = \"Renault\"\n",
    "model_name = \"Duster\"\n",
    "\n",
    "# company_name = \"Mahindra\"\n",
    "# model_name = \"Thar\"\n",
    "\n",
    "# company_name = \"honda\"\n",
    "# model_name = \"city-4th-generation\" \n",
    "\n",
    "# company_name = \"tata\"\n",
    "# model_name = \"nexon\" "
   ]
  },
  {
   "cell_type": "code",
   "execution_count": 16,
   "metadata": {},
   "outputs": [
    {
     "data": {
      "text/plain": [
       "'https://www.cartrade.com/Renault-cars/Duster/'"
      ]
     },
     "execution_count": 16,
     "metadata": {},
     "output_type": "execute_result"
    }
   ],
   "source": [
    "url3 = (\"https://www.cartrade.com/\"+company_name+\"-cars/\"+model_name+\"/\")\n",
    "url3"
   ]
  },
  {
   "cell_type": "code",
   "execution_count": 17,
   "metadata": {},
   "outputs": [
    {
     "data": {
      "text/plain": [
       "200"
      ]
     },
     "execution_count": 17,
     "metadata": {},
     "output_type": "execute_result"
    }
   ],
   "source": [
    "r = requests.get(url3)\n",
    "r.status_code\n"
   ]
  },
  {
   "cell_type": "code",
   "execution_count": 18,
   "metadata": {},
   "outputs": [],
   "source": [
    "soup = BeautifulSoup(r.content,'html.parser')\n",
    "# print(soup.get_text)\n",
    "# print(\" \".join(soup.get_text().split()))\n",
    "\n",
    "# soup.prettify()\n",
    "# print(\" \".join(soup.prettify().split()))"
   ]
  },
  {
   "cell_type": "code",
   "execution_count": 19,
   "metadata": {},
   "outputs": [
    {
     "data": {
      "text/plain": [
       "11"
      ]
     },
     "execution_count": 19,
     "metadata": {},
     "output_type": "execute_result"
    }
   ],
   "source": [
    "link3 = \"keySpecsBody\"\n",
    "cars = soup.find('tbody', class_=link3).find_all('tr')\n",
    "# cars\n",
    "len(cars)"
   ]
  },
  {
   "cell_type": "code",
   "execution_count": 20,
   "metadata": {},
   "outputs": [
    {
     "name": "stdout",
     "output_type": "stream",
     "text": [
      "['Renault Duster', '₹  8.59 - 14.25 Lakh', 'Petrol', '14.19 - 16.5 km/l', '5 People', '3 Star (Euro NCAP)', '2 Years or 50000 km', '1498 cc, 1330 cc', 'Manual, Automatic (CVT)', '4360 mm L X 1822 mm W X 1695 mm H', '50 litre']\n"
     ]
    }
   ],
   "source": [
    "\n",
    "Car_Name         = company_name +\" \"+ model_name\n",
    "Price            = cars[0].find(\"td\").get_text()\n",
    "Fuel_Type        = cars[1].find(\"td\").get_text()\n",
    "Seating_Capacity = cars[2].find(\"td\").get_text()\n",
    "Safety_Rating    = cars[3].find(\"td\").get_text()\n",
    "Warranty         = cars[4].find(\"td\").get_text()\n",
    "Engine_Size      = cars[5].find(\"td\").get_text()\n",
    "Transmission     = cars[6].find(\"td\").get_text()\n",
    "Size             = cars[7].find(\"td\").get_text()\n",
    "Fuel_Tank        = cars[8].find(\"td\").get_text()\n",
    "Ground_Clearance = cars[9].find(\"td\").get_text()\n",
    "\n",
    "Info =[Car_Name,Price,Fuel_Type,Seating_Capacity,Safety_Rating,Warranty,Engine_Size,Transmission,Size,Fuel_Tank,Ground_Clearance]\n",
    "\n",
    "# print(car_name)   \n",
    "# print(price) \n",
    "# print(fuel_type)   \n",
    "print(Info)"
   ]
  },
  {
   "cell_type": "code",
   "execution_count": 21,
   "metadata": {},
   "outputs": [],
   "source": [
    "#Converting the data into .CSV file\n",
    "with open(\"copy_Car_Details.csv\",\"w\",encoding=\"utf8\", newline=\"\")as file:\n",
    " Writer = writer(file)\n",
    " header = [\"Car_Name\",\"Price\",\"Fuel_Type\",\"Seating_Capacity\",\"Safety_Rating\",\"Warranty\",\"Engine_Size\",\"Transmission\",\"Size\",\"Fuel_Tank\",\"Ground_Clearance\"]\n",
    " Writer.writerow(header)\n",
    " Writer.writerow(Info)"
   ]
  },
  {
   "cell_type": "code",
   "execution_count": null,
   "metadata": {},
   "outputs": [],
   "source": []
  },
  {
   "cell_type": "code",
   "execution_count": 22,
   "metadata": {},
   "outputs": [],
   "source": [
    "# excel= openpyxl.Workbook()\n",
    "\n",
    "# sheet = excel.active\n",
    "# sheet.title = 'Car Details'\n",
    "\n",
    "# sheet.append(header)\n",
    "# sheet.append(Info)\n",
    "# excel.save('Car_Details.xlsx')"
   ]
  }
 ],
 "metadata": {
  "kernelspec": {
   "display_name": "Python 3.9.7 64-bit",
   "language": "python",
   "name": "python3"
  },
  "language_info": {
   "codemirror_mode": {
    "name": "ipython",
    "version": 3
   },
   "file_extension": ".py",
   "mimetype": "text/x-python",
   "name": "python",
   "nbconvert_exporter": "python",
   "pygments_lexer": "ipython3",
   "version": "3.9.7"
  },
  "orig_nbformat": 4,
  "vscode": {
   "interpreter": {
    "hash": "c25cf2a356c6c26012233e9a4597f5d09508f48b164db36502f5a14ab8614f6a"
   }
  }
 },
 "nbformat": 4,
 "nbformat_minor": 2
}
