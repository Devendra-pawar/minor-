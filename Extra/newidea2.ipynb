{
 "cells": [
  {
   "cell_type": "code",
   "execution_count": 151,
   "metadata": {},
   "outputs": [
    {
     "name": "stdout",
     "output_type": "stream",
     "text": [
      "Importing done\n"
     ]
    }
   ],
   "source": [
    "# importing required libraries\n",
    "import requests \n",
    "from bs4 import BeautifulSoup\n",
    "from csv import writer\n",
    "import openpyxl\n",
    "import pandas\n",
    "print(\"Importing done\")"
   ]
  },
  {
   "cell_type": "code",
   "execution_count": 152,
   "metadata": {},
   "outputs": [
    {
     "name": "stdout",
     "output_type": "stream",
     "text": [
      "This is the website: https://www.cartrade.com/\n"
     ]
    }
   ],
   "source": [
    "url1 = \"https://www.cartrade.com/\"\n",
    "print(f'This is the website: {url1}')"
   ]
  },
  {
   "cell_type": "code",
   "execution_count": 153,
   "metadata": {},
   "outputs": [
    {
     "data": {
      "text/plain": [
       "200"
      ]
     },
     "execution_count": 153,
     "metadata": {},
     "output_type": "execute_result"
    }
   ],
   "source": [
    "r = requests.get(url1)\n",
    "r.status_code"
   ]
  },
  {
   "cell_type": "code",
   "execution_count": 154,
   "metadata": {},
   "outputs": [],
   "source": [
    "soup = BeautifulSoup(r.content,'html.parser')"
   ]
  },
  {
   "cell_type": "code",
   "execution_count": 155,
   "metadata": {},
   "outputs": [
    {
     "data": {
      "text/plain": [
       "40"
      ]
     },
     "execution_count": 155,
     "metadata": {},
     "output_type": "execute_result"
    }
   ],
   "source": [
    "link1 = \"logo_brnds\"\n",
    "\n",
    "cars = soup.find_all('div', class_=link1)\n",
    "        \n",
    "# print(cars)\n",
    "len(cars)\n",
    "\n",
    "# cars.get_text()"
   ]
  },
  {
   "cell_type": "code",
   "execution_count": 156,
   "metadata": {},
   "outputs": [
    {
     "name": "stdout",
     "output_type": "stream",
     "text": [
      "['Maruti-Suzuki', 'Tata', 'Hyundai', 'Mahindra', 'BMW', 'Toyota', 'Mercedes-Benz', 'Land-Rover', 'Kia', 'Honda', 'Audi', 'Volkswagen', 'Skoda', 'Jaguar', 'MG', 'Rolls-Royce', 'Renault', 'Jeep', 'Volvo', 'Nissan', 'Lamborghini', 'Porsche', 'Tesla', 'MINI', 'Lexus', 'Ferrari', 'Mitsubishi', 'Citroen', 'Isuzu', 'Maserati', 'Bugatti', 'Aston-Martin', 'Bentley', 'McLaren', 'Force-Motors', 'Haval', 'Mean-Metal-Motors', 'BYD', 'Fisker', 'OLA']\n"
     ]
    }
   ],
   "source": [
    "names = []\n",
    "for name in cars:\n",
    "    names.append(name.get_text().replace(\" \",\"-\"))\n",
    "# a = \" ,\".join(names)\n",
    "print(names)"
   ]
  },
  {
   "cell_type": "code",
   "execution_count": 157,
   "metadata": {},
   "outputs": [],
   "source": [
    "Brand_name = \"Tata\"\n",
    "url2 = \"https://www.cartrade.com/\"+ Brand_name + \"-cars/\""
   ]
  },
  {
   "cell_type": "code",
   "execution_count": 158,
   "metadata": {},
   "outputs": [],
   "source": [
    "r = requests.get(url2)"
   ]
  },
  {
   "cell_type": "code",
   "execution_count": 159,
   "metadata": {},
   "outputs": [],
   "source": [
    "soup = BeautifulSoup(r.content,'html.parser')"
   ]
  },
  {
   "cell_type": "code",
   "execution_count": 160,
   "metadata": {},
   "outputs": [
    {
     "data": {
      "text/plain": [
       "14"
      ]
     },
     "execution_count": 160,
     "metadata": {},
     "output_type": "execute_result"
    }
   ],
   "source": [
    "link1 = \"carBrands_list\"\n",
    "cars = soup.find_all('div', class_=link1)\n",
    "# cars\n",
    "len(cars)\n"
   ]
  },
  {
   "cell_type": "code",
   "execution_count": 161,
   "metadata": {},
   "outputs": [
    {
     "name": "stdout",
     "output_type": "stream",
     "text": [
      "['Tata Tiago', 'Tata Punch', 'Tata Tigor', 'Tata Altroz', 'Tata Tiago NRG', 'Tata Nexon', 'Tata Tiago EV', 'Tata Tigor EV', 'Tata Harrier', 'Tata Nexon EV', 'Tata Nexon EV Prime', 'Tata Safari', 'Tata Nexon EV Max']\n",
      "This are the names of all models\n"
     ]
    }
   ],
   "source": [
    "c = []\n",
    "for name in cars:  \n",
    "  a = name.find(\"div\", class_=\"makeblktlt\")\n",
    "    \n",
    "  if a != None:\n",
    "    b = a.get_text()\n",
    "    # print(b)\n",
    "    if b != None:\n",
    "       c.append(b)\n",
    "print(c)\n",
    "print(\"This are the names of all models\")"
   ]
  },
  {
   "cell_type": "markdown",
   "metadata": {},
   "source": []
  },
  {
   "cell_type": "code",
   "execution_count": 167,
   "metadata": {},
   "outputs": [
    {
     "name": "stdout",
     "output_type": "stream",
     "text": [
      "Tata Tiago\n"
     ]
    },
    {
     "ename": "AttributeError",
     "evalue": "'NoneType' object has no attribute 'find_all'",
     "output_type": "error",
     "traceback": [
      "\u001b[1;31m---------------------------------------------------------------------------\u001b[0m",
      "\u001b[1;31mAttributeError\u001b[0m                            Traceback (most recent call last)",
      "\u001b[1;32mc:\\Users\\kreez\\Desktop\\College minor project\\newidea2.ipynb Cell 13\u001b[0m in \u001b[0;36m<module>\u001b[1;34m\u001b[0m\n\u001b[0;32m      <a href='vscode-notebook-cell:/c%3A/Users/kreez/Desktop/College%20minor%20project/newidea2.ipynb#X34sZmlsZQ%3D%3D?line=4'>5</a>\u001b[0m soup \u001b[39m=\u001b[39m BeautifulSoup(r\u001b[39m.\u001b[39mcontent,\u001b[39m'\u001b[39m\u001b[39mhtml.parser\u001b[39m\u001b[39m'\u001b[39m)\n\u001b[0;32m      <a href='vscode-notebook-cell:/c%3A/Users/kreez/Desktop/College%20minor%20project/newidea2.ipynb#X34sZmlsZQ%3D%3D?line=5'>6</a>\u001b[0m link3 \u001b[39m=\u001b[39m \u001b[39m\"\u001b[39m\u001b[39mkeySpecsBody\u001b[39m\u001b[39m\"\u001b[39m\n\u001b[1;32m----> <a href='vscode-notebook-cell:/c%3A/Users/kreez/Desktop/College%20minor%20project/newidea2.ipynb#X34sZmlsZQ%3D%3D?line=7'>8</a>\u001b[0m cars \u001b[39m=\u001b[39m soup\u001b[39m.\u001b[39;49mfind(\u001b[39m'\u001b[39;49m\u001b[39mtbody\u001b[39;49m\u001b[39m'\u001b[39;49m, class_\u001b[39m=\u001b[39;49mlink3)\u001b[39m.\u001b[39;49mfind_all(\u001b[39m'\u001b[39m\u001b[39mtr\u001b[39m\u001b[39m'\u001b[39m)\n\u001b[0;32m      <a href='vscode-notebook-cell:/c%3A/Users/kreez/Desktop/College%20minor%20project/newidea2.ipynb#X34sZmlsZQ%3D%3D?line=8'>9</a>\u001b[0m \u001b[39m# cars = soup.find('tbody', class_=link3)\u001b[39;00m\n\u001b[0;32m     <a href='vscode-notebook-cell:/c%3A/Users/kreez/Desktop/College%20minor%20project/newidea2.ipynb#X34sZmlsZQ%3D%3D?line=9'>10</a>\u001b[0m \u001b[39mprint\u001b[39m(cars)\n",
      "\u001b[1;31mAttributeError\u001b[0m: 'NoneType' object has no attribute 'find_all'"
     ]
    }
   ],
   "source": [
    "for Model_name in c:\n",
    "        print(Model_name)\n",
    "        url3 = (\"https://www.cartrade.com/\"+Brand_name+\"-cars/\"+Model_name+\"/\")\n",
    "        r = requests.get(url3)\n",
    "        soup = BeautifulSoup(r.content,'html.parser')\n",
    "        link3 = \"keySpecsBody\"\n",
    "        \n",
    "        cars = soup.find('tbody', class_=link3).find_all('tr')\n",
    "        # cars = soup.find('tbody', class_=link3)\n",
    "        print(cars)\n",
    "        if cars!=None:\n",
    "                print(\"Hi\")\n",
    "                print(cars)\n",
    "                \n",
    "        print(len(cars))\n",
    "        \n",
    "        # Car_Name         = Brand_name +\" \"+ Model_name\n",
    "        # Price            = cars[0].find(\"td\").get_text()\n",
    "        # Fuel_Type        = cars[1].find(\"td\").get_text()\n",
    "        # Seating_Capacity = cars[2].find(\"td\").get_text()\n",
    "        # Safety_Rating    = cars[3].find(\"td\").get_text()\n",
    "        # Warranty         = cars[4].find(\"td\").get_text()\n",
    "        # Engine_Size      = cars[5].find(\"td\").get_text()\n",
    "        # Transmission     = cars[6].find(\"td\").get_text()\n",
    "        # Size             = cars[7].find(\"td\").get_text()\n",
    "        # Fuel_Tank        = cars[8].find(\"td\").get_text()\n",
    "        # Ground_Clearance = cars[9].find(\"td\").get_text()\n",
    "\n",
    "        # Info =[Car_Name,Price,Fuel_Type,Seating_Capacity,Safety_Rating,Warranty,Engine_Size,Transmission,Size,Fuel_Tank,Ground_Clearance]\n",
    "\n",
    "        # print(Car_Name)   \n",
    "        # # print(price) \n",
    "        # # print(fuel_type)   \n",
    "        # print(Info)\n",
    "        "
   ]
  },
  {
   "cell_type": "code",
   "execution_count": 168,
   "metadata": {},
   "outputs": [
    {
     "name": "stdout",
     "output_type": "stream",
     "text": [
      "Tata Tiago\n"
     ]
    },
    {
     "ename": "AttributeError",
     "evalue": "'NoneType' object has no attribute 'find_all'",
     "output_type": "error",
     "traceback": [
      "\u001b[1;31m---------------------------------------------------------------------------\u001b[0m",
      "\u001b[1;31mAttributeError\u001b[0m                            Traceback (most recent call last)",
      "\u001b[1;32mc:\\Users\\kreez\\Desktop\\College minor project\\newidea2.ipynb Cell 14\u001b[0m in \u001b[0;36m<module>\u001b[1;34m\u001b[0m\n\u001b[0;32m      <a href='vscode-notebook-cell:/c%3A/Users/kreez/Desktop/College%20minor%20project/newidea2.ipynb#X36sZmlsZQ%3D%3D?line=3'>4</a>\u001b[0m soup \u001b[39m=\u001b[39m BeautifulSoup(r\u001b[39m.\u001b[39mcontent,\u001b[39m'\u001b[39m\u001b[39mhtml.parser\u001b[39m\u001b[39m'\u001b[39m)\n\u001b[0;32m      <a href='vscode-notebook-cell:/c%3A/Users/kreez/Desktop/College%20minor%20project/newidea2.ipynb#X36sZmlsZQ%3D%3D?line=4'>5</a>\u001b[0m link3 \u001b[39m=\u001b[39m \u001b[39m\"\u001b[39m\u001b[39mkeySpecsBody\u001b[39m\u001b[39m\"\u001b[39m\n\u001b[1;32m----> <a href='vscode-notebook-cell:/c%3A/Users/kreez/Desktop/College%20minor%20project/newidea2.ipynb#X36sZmlsZQ%3D%3D?line=6'>7</a>\u001b[0m cars \u001b[39m=\u001b[39m soup\u001b[39m.\u001b[39;49mfind(\u001b[39m'\u001b[39;49m\u001b[39mtbody\u001b[39;49m\u001b[39m'\u001b[39;49m, class_\u001b[39m=\u001b[39;49mlink3)\u001b[39m.\u001b[39;49mfind_all(\u001b[39m'\u001b[39m\u001b[39mtr\u001b[39m\u001b[39m'\u001b[39m)\n\u001b[0;32m      <a href='vscode-notebook-cell:/c%3A/Users/kreez/Desktop/College%20minor%20project/newidea2.ipynb#X36sZmlsZQ%3D%3D?line=7'>8</a>\u001b[0m         \u001b[39m# cars = soup.find('tbody', class_=link3)\u001b[39;00m\n\u001b[0;32m      <a href='vscode-notebook-cell:/c%3A/Users/kreez/Desktop/College%20minor%20project/newidea2.ipynb#X36sZmlsZQ%3D%3D?line=8'>9</a>\u001b[0m \u001b[39mprint\u001b[39m(cars)\n",
      "\u001b[1;31mAttributeError\u001b[0m: 'NoneType' object has no attribute 'find_all'"
     ]
    }
   ],
   "source": [
    "print(Model_name)\n",
    "url3 = (\"https://www.cartrade.com/\"+Brand_name+\"-cars/\"+Model_name+\"/\")\n",
    "r = requests.get(url3)\n",
    "soup = BeautifulSoup(r.content,'html.parser')\n",
    "link3 = \"keySpecsBody\"\n",
    "        \n",
    "cars = soup.find('tbody', class_=link3).find_all('tr')\n",
    "        # cars = soup.find('tbody', class_=link3)\n",
    "print(cars)\n",
    "if cars!=None:\n",
    "        print(\"Hi\")\n",
    "        print(cars)\n",
    "                \n",
    "print(len(cars))"
   ]
  },
  {
   "cell_type": "code",
   "execution_count": null,
   "metadata": {},
   "outputs": [
    {
     "data": {
      "text/plain": [
       "'https://www.cartrade.com/Tata-cars/Nexon/'"
      ]
     },
     "execution_count": 143,
     "metadata": {},
     "output_type": "execute_result"
    }
   ],
   "source": [
    "Model_name = \"Nexon\"\n",
    "url3 = (\"https://www.cartrade.com/\"+Brand_name+\"-cars/\"+Model_name+\"/\")\n",
    "url3"
   ]
  },
  {
   "cell_type": "code",
   "execution_count": null,
   "metadata": {},
   "outputs": [
    {
     "data": {
      "text/plain": [
       "200"
      ]
     },
     "execution_count": 144,
     "metadata": {},
     "output_type": "execute_result"
    }
   ],
   "source": [
    "r = requests.get(url3)\n",
    "r.status_code"
   ]
  },
  {
   "cell_type": "code",
   "execution_count": null,
   "metadata": {},
   "outputs": [],
   "source": [
    "soup = BeautifulSoup(r.content,'html.parser')"
   ]
  },
  {
   "cell_type": "code",
   "execution_count": null,
   "metadata": {},
   "outputs": [
    {
     "data": {
      "text/plain": [
       "11"
      ]
     },
     "execution_count": 148,
     "metadata": {},
     "output_type": "execute_result"
    }
   ],
   "source": [
    "link3 = \"keySpecsBody\"\n",
    "cars = soup.find('tbody', class_=link3).find_all('tr')\n",
    "# cars\n",
    "len(cars)"
   ]
  },
  {
   "cell_type": "code",
   "execution_count": null,
   "metadata": {},
   "outputs": [
    {
     "name": "stdout",
     "output_type": "stream",
     "text": [
      "Tata Nexon\n",
      "['Tata Nexon', '₹  7.59 - 14.08 Lakh', 'Petrol, Diesel', '16.3 - 22 km/l', '5 People', '5 Star (Global NCAP)', '2 Years or 75000 km', '1199 cc, 1497 cc', 'Manual, Automatic (AMT)', '3993 mm L X 1811 mm W X 1606 mm H', '44 litre']\n"
     ]
    }
   ],
   "source": [
    "Car_Name         = Brand_name +\" \"+ Model_name\n",
    "Price            = cars[0].find(\"td\").get_text()\n",
    "Fuel_Type        = cars[1].find(\"td\").get_text()\n",
    "Seating_Capacity = cars[2].find(\"td\").get_text()\n",
    "Safety_Rating    = cars[3].find(\"td\").get_text()\n",
    "Warranty         = cars[4].find(\"td\").get_text()\n",
    "Engine_Size      = cars[5].find(\"td\").get_text()\n",
    "Transmission     = cars[6].find(\"td\").get_text()\n",
    "Size             = cars[7].find(\"td\").get_text()\n",
    "Fuel_Tank        = cars[8].find(\"td\").get_text()\n",
    "Ground_Clearance = cars[9].find(\"td\").get_text()\n",
    "\n",
    "Info =[Car_Name,Price,Fuel_Type,Seating_Capacity,Safety_Rating,Warranty,Engine_Size,Transmission,Size,Fuel_Tank,Ground_Clearance]\n",
    "\n",
    "print(Car_Name)   \n",
    "# print(price) \n",
    "# print(fuel_type)   \n",
    "print(Info)"
   ]
  },
  {
   "cell_type": "code",
   "execution_count": null,
   "metadata": {},
   "outputs": [],
   "source": []
  },
  {
   "cell_type": "code",
   "execution_count": null,
   "metadata": {},
   "outputs": [],
   "source": []
  },
  {
   "cell_type": "code",
   "execution_count": null,
   "metadata": {},
   "outputs": [],
   "source": []
  },
  {
   "cell_type": "code",
   "execution_count": null,
   "metadata": {},
   "outputs": [],
   "source": []
  },
  {
   "cell_type": "code",
   "execution_count": null,
   "metadata": {},
   "outputs": [],
   "source": []
  },
  {
   "cell_type": "code",
   "execution_count": null,
   "metadata": {},
   "outputs": [],
   "source": []
  },
  {
   "cell_type": "code",
   "execution_count": null,
   "metadata": {},
   "outputs": [],
   "source": []
  },
  {
   "cell_type": "code",
   "execution_count": null,
   "metadata": {},
   "outputs": [],
   "source": []
  },
  {
   "cell_type": "code",
   "execution_count": null,
   "metadata": {},
   "outputs": [],
   "source": []
  }
 ],
 "metadata": {
  "kernelspec": {
   "display_name": "Python 3.9.7 64-bit",
   "language": "python",
   "name": "python3"
  },
  "language_info": {
   "codemirror_mode": {
    "name": "ipython",
    "version": 3
   },
   "file_extension": ".py",
   "mimetype": "text/x-python",
   "name": "python",
   "nbconvert_exporter": "python",
   "pygments_lexer": "ipython3",
   "version": "3.9.7"
  },
  "orig_nbformat": 4,
  "vscode": {
   "interpreter": {
    "hash": "c25cf2a356c6c26012233e9a4597f5d09508f48b164db36502f5a14ab8614f6a"
   }
  }
 },
 "nbformat": 4,
 "nbformat_minor": 2
}
