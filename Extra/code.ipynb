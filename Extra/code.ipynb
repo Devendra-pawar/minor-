{
 "cells": [
  {
   "cell_type": "markdown",
   "metadata": {},
   "source": [
    "# Minor project"
   ]
  },
  {
   "cell_type": "markdown",
   "metadata": {},
   "source": [
    "Scraping the website by python"
   ]
  },
  {
   "cell_type": "markdown",
   "metadata": {},
   "source": []
  },
  {
   "cell_type": "markdown",
   "metadata": {},
   "source": [
    "Car Examples-"
   ]
  },
  {
   "cell_type": "code",
   "execution_count": 1,
   "metadata": {},
   "outputs": [],
   "source": [
    "# company_name = \"Renault\"\n",
    "# model_name = \"Duster\"\n",
    "\n",
    "# company_name = \"Mahindra\"\n",
    "# model_name = \"Thar\"\n",
    "\n",
    "# company_name = \"honda\"\n",
    "# model_name = \"city-4th-generation\" \n",
    "\n",
    "company_name = \"tata\"\n",
    "model_name = \"nexon\" "
   ]
  },
  {
   "cell_type": "code",
   "execution_count": 2,
   "metadata": {},
   "outputs": [],
   "source": [
    "# importing required libraries\n",
    "import requests \n",
    "from bs4 import BeautifulSoup\n",
    "from csv import writer\n",
    "import openpyxl"
   ]
  },
  {
   "cell_type": "code",
   "execution_count": 3,
   "metadata": {},
   "outputs": [
    {
     "data": {
      "text/plain": [
       "'https://www.cartrade.com/tata-cars/nexon/'"
      ]
     },
     "execution_count": 3,
     "metadata": {},
     "output_type": "execute_result"
    }
   ],
   "source": [
    "url = (\"https://www.cartrade.com/\"+company_name+\"-cars/\"+model_name+\"/\")\n",
    "url"
   ]
  },
  {
   "cell_type": "code",
   "execution_count": 4,
   "metadata": {},
   "outputs": [
    {
     "data": {
      "text/plain": [
       "200"
      ]
     },
     "execution_count": 4,
     "metadata": {},
     "output_type": "execute_result"
    }
   ],
   "source": [
    "r = requests.get(url)\n",
    "r.status_code\n"
   ]
  },
  {
   "cell_type": "code",
   "execution_count": 13,
   "metadata": {},
   "outputs": [],
   "source": [
    "soup = BeautifulSoup(r.content,'html.parser')\n",
    "# print(soup.get_text)\n",
    "# print(\" \".join(soup.get_text().split()))\n",
    "\n",
    "# soup.prettify()\n",
    "# print(\" \".join(soup.prettify().split()))"
   ]
  },
  {
   "cell_type": "code",
   "execution_count": 6,
   "metadata": {},
   "outputs": [
    {
     "data": {
      "text/plain": [
       "11"
      ]
     },
     "execution_count": 6,
     "metadata": {},
     "output_type": "execute_result"
    }
   ],
   "source": [
    "link = \"keySpecsBody\"\n",
    "cars = soup.find('tbody', class_=link).find_all('tr')\n",
    "# cars\n",
    "len(cars)"
   ]
  },
  {
   "cell_type": "code",
   "execution_count": 7,
   "metadata": {},
   "outputs": [
    {
     "name": "stdout",
     "output_type": "stream",
     "text": [
      "['tata nexon', '₹  7.59 - 13.95 Lakh', 'Petrol, Diesel', '16.3 - 22 km/l', '5 People', '5 Star (Global NCAP)', '2 Years or 75000 km', '1199 cc, 1497 cc', 'Manual, Automatic (AMT)', '3993 mm L X 1811 mm W X 1606 mm H', '44 litre']\n"
     ]
    }
   ],
   "source": [
    "\n",
    "Car_Name         = company_name +\" \"+ model_name\n",
    "Price            = cars[0].find(\"td\").get_text()\n",
    "Fuel_Type        = cars[1].find(\"td\").get_text()\n",
    "Seating_Capacity = cars[2].find(\"td\").get_text()\n",
    "Safety_Rating    = cars[3].find(\"td\").get_text()\n",
    "Warranty         = cars[4].find(\"td\").get_text()\n",
    "Engine_Size      = cars[5].find(\"td\").get_text()\n",
    "Transmission     = cars[6].find(\"td\").get_text()\n",
    "Size             = cars[7].find(\"td\").get_text()\n",
    "Fuel_Tank        = cars[8].find(\"td\").get_text()\n",
    "Ground_Clearance = cars[9].find(\"td\").get_text()\n",
    "\n",
    "Info =[Car_Name,Price,Fuel_Type,Seating_Capacity,Safety_Rating,Warranty,Engine_Size,Transmission,Size,Fuel_Tank,Ground_Clearance]\n",
    "\n",
    "# print(car_name)   \n",
    "# print(price) \n",
    "# print(fuel_type)   \n",
    "print(Info)"
   ]
  },
  {
   "cell_type": "code",
   "execution_count": 8,
   "metadata": {},
   "outputs": [],
   "source": [
    "#Converting the data into CSV file\n",
    "with open(\"Car_Details.csv\",\"w\",encoding=\"utf8\", newline=\"\")as file:\n",
    " Writer = writer(file)\n",
    " header = [\"Car_Name\",\"Price\",\"Fuel_Type\",\"Seating_Capacity\",\"Safety_Rating\",\"Warranty\",\"Engine_Size\",\"Transmission\",\"Size\",\"Fuel_Tank\",\"Ground_Clearance\"]\n",
    " Writer.writerow(header)\n",
    " Writer.writerow(Info)"
   ]
  },
  {
   "cell_type": "code",
   "execution_count": 9,
   "metadata": {},
   "outputs": [],
   "source": [
    "# converting the data into Excel file \n",
    "excel= openpyxl.Workbook()\n",
    "\n",
    "sheet = excel.active\n",
    "sheet.title = 'Car Details'\n",
    "\n",
    "sheet.append(header)\n",
    "sheet.append(Info)\n",
    "excel.save('Car_Details.xlsx')"
   ]
  }
 ],
 "metadata": {
  "kernelspec": {
   "display_name": "Python 3.9.7 64-bit",
   "language": "python",
   "name": "python3"
  },
  "language_info": {
   "codemirror_mode": {
    "name": "ipython",
    "version": 3
   },
   "file_extension": ".py",
   "mimetype": "text/x-python",
   "name": "python",
   "nbconvert_exporter": "python",
   "pygments_lexer": "ipython3",
   "version": "3.9.7"
  },
  "orig_nbformat": 4,
  "vscode": {
   "interpreter": {
    "hash": "c25cf2a356c6c26012233e9a4597f5d09508f48b164db36502f5a14ab8614f6a"
   }
  }
 },
 "nbformat": 4,
 "nbformat_minor": 2
}
