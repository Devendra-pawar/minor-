{
 "cells": [
  {
   "cell_type": "code",
   "execution_count": 78,
   "metadata": {},
   "outputs": [
    {
     "name": "stdout",
     "output_type": "stream",
     "text": [
      "Importing done\n"
     ]
    }
   ],
   "source": [
    "# importing required libraries\n",
    "import requests \n",
    "from bs4 import BeautifulSoup\n",
    "from csv import writer\n",
    "import openpyxl\n",
    "import pandas\n",
    "print(\"Importing done\")"
   ]
  },
  {
   "cell_type": "code",
   "execution_count": 79,
   "metadata": {},
   "outputs": [
    {
     "name": "stdout",
     "output_type": "stream",
     "text": [
      "This is the website: https://www.cartrade.com/\n"
     ]
    }
   ],
   "source": [
    "url1 = \"https://www.cartrade.com/\"\n",
    "print(f'This is the website: {url1}')"
   ]
  },
  {
   "cell_type": "code",
   "execution_count": 80,
   "metadata": {},
   "outputs": [
    {
     "data": {
      "text/plain": [
       "200"
      ]
     },
     "execution_count": 80,
     "metadata": {},
     "output_type": "execute_result"
    }
   ],
   "source": [
    "r = requests.get(url1)\n",
    "r.status_code"
   ]
  },
  {
   "cell_type": "code",
   "execution_count": 81,
   "metadata": {},
   "outputs": [],
   "source": [
    "soup = BeautifulSoup(r.content,'html.parser')"
   ]
  },
  {
   "cell_type": "code",
   "execution_count": 82,
   "metadata": {},
   "outputs": [
    {
     "data": {
      "text/plain": [
       "40"
      ]
     },
     "execution_count": 82,
     "metadata": {},
     "output_type": "execute_result"
    }
   ],
   "source": [
    "link1 = \"logo_brnds\"\n",
    "\n",
    "cars = soup.find_all('div', class_=link1)\n",
    "        \n",
    "# print(cars)\n",
    "len(cars)\n",
    "\n",
    "# cars.get_text()"
   ]
  },
  {
   "cell_type": "code",
   "execution_count": 86,
   "metadata": {},
   "outputs": [
    {
     "name": "stdout",
     "output_type": "stream",
     "text": [
      "['Maruti-Suzuki', 'Tata', 'Hyundai', 'Mahindra', 'BMW', 'Toyota', 'Mercedes-Benz', 'Land-Rover', 'Kia', 'Honda', 'Audi', 'Volkswagen', 'Skoda', 'Jaguar', 'MG', 'Rolls-Royce', 'Renault', 'Jeep', 'Volvo', 'Nissan', 'Lamborghini', 'Porsche', 'Tesla', 'MINI', 'Lexus', 'Ferrari', 'Mitsubishi', 'Citroen', 'Isuzu', 'Maserati', 'Bugatti', 'Aston-Martin', 'Bentley', 'McLaren', 'Force-Motors', 'Haval', 'Mean-Metal-Motors', 'BYD', 'Fisker', 'OLA']\n"
     ]
    }
   ],
   "source": [
    "names = []\n",
    "for name in cars:\n",
    "    names.append(name.get_text().replace(\" \",\"-\"))\n",
    "    \n",
    "n=[]\n",
    "for j in names:\n",
    "    a = 0\n",
    "    if a<10:\n",
    "        n.append(j)\n",
    "        a+=1\n",
    "\n",
    "print(n)\n"
   ]
  },
  {
   "cell_type": "code",
   "execution_count": 87,
   "metadata": {},
   "outputs": [
    {
     "ename": "IndentationError",
     "evalue": "expected an indented block (2811237797.py, line 20)",
     "output_type": "error",
     "traceback": [
      "\u001b[1;36m  Input \u001b[1;32mIn [87]\u001b[1;36m\u001b[0m\n\u001b[1;33m    c.append(b)\u001b[0m\n\u001b[1;37m    ^\u001b[0m\n\u001b[1;31mIndentationError\u001b[0m\u001b[1;31m:\u001b[0m expected an indented block\n"
     ]
    }
   ],
   "source": [
    "c = []\n",
    "for i in names:\n",
    "        url2 = \"https://www.cartrade.com/\"+ i + \"-cars/\"\n",
    "        #print(f'This is the website: {url2}')\n",
    "        r = requests.get(url2)\n",
    "        # r.status_code\n",
    "        soup = BeautifulSoup(r.content,'html.parser')\n",
    "        link1 = \"carBrands_list\"\n",
    "        cars = soup.find_all('div', class_=link1)\n",
    "        # # cars\n",
    "        # print(len(cars))\n",
    "        \n",
    "        for name in cars:  \n",
    "                a = name.find(\"div\", class_=\"makeblktlt\")\n",
    "    \n",
    "                if a != None:\n",
    "                        b = a.get_text()\n",
    "                        # print(b)\n",
    "                        if b != None:\n",
    "                        c.append(b)"
   ]
  },
  {
   "cell_type": "code",
   "execution_count": null,
   "metadata": {},
   "outputs": [],
   "source": []
  },
  {
   "cell_type": "code",
   "execution_count": null,
   "metadata": {},
   "outputs": [],
   "source": []
  },
  {
   "cell_type": "code",
   "execution_count": null,
   "metadata": {},
   "outputs": [],
   "source": []
  },
  {
   "cell_type": "code",
   "execution_count": null,
   "metadata": {},
   "outputs": [],
   "source": []
  },
  {
   "cell_type": "code",
   "execution_count": null,
   "metadata": {},
   "outputs": [],
   "source": []
  },
  {
   "cell_type": "code",
   "execution_count": null,
   "metadata": {},
   "outputs": [],
   "source": []
  },
  {
   "cell_type": "code",
   "execution_count": null,
   "metadata": {},
   "outputs": [],
   "source": []
  },
  {
   "cell_type": "code",
   "execution_count": null,
   "metadata": {},
   "outputs": [],
   "source": []
  }
 ],
 "metadata": {
  "kernelspec": {
   "display_name": "Python 3.9.7 64-bit",
   "language": "python",
   "name": "python3"
  },
  "language_info": {
   "codemirror_mode": {
    "name": "ipython",
    "version": 3
   },
   "file_extension": ".py",
   "mimetype": "text/x-python",
   "name": "python",
   "nbconvert_exporter": "python",
   "pygments_lexer": "ipython3",
   "version": "3.9.7"
  },
  "orig_nbformat": 4,
  "vscode": {
   "interpreter": {
    "hash": "c25cf2a356c6c26012233e9a4597f5d09508f48b164db36502f5a14ab8614f6a"
   }
  }
 },
 "nbformat": 4,
 "nbformat_minor": 2
}
