{
 "cells": [
  {
   "cell_type": "markdown",
   "metadata": {},
   "source": [
    "# Minor project"
   ]
  },
  {
   "cell_type": "markdown",
   "metadata": {},
   "source": []
  },
  {
   "cell_type": "markdown",
   "metadata": {},
   "source": [
    "Scraping the Cartrade website by python"
   ]
  },
  {
   "cell_type": "code",
   "execution_count": 1,
   "metadata": {},
   "outputs": [
    {
     "name": "stdout",
     "output_type": "stream",
     "text": [
      "Importing done\n"
     ]
    }
   ],
   "source": [
    "# importing required libraries\n",
    "import requests \n",
    "from bs4 import BeautifulSoup\n",
    "from csv import writer\n",
    "import openpyxl\n",
    "import pandas\n",
    "print(\"Importing done\")"
   ]
  },
  {
   "cell_type": "markdown",
   "metadata": {},
   "source": [
    "brands\n"
   ]
  },
  {
   "cell_type": "code",
   "execution_count": 2,
   "metadata": {},
   "outputs": [
    {
     "name": "stdout",
     "output_type": "stream",
     "text": [
      "This is the website: https://www.cartrade.com/\n"
     ]
    }
   ],
   "source": [
    "url1 = \"https://www.cartrade.com/\"\n",
    "print(f'This is the website: {url1}')"
   ]
  },
  {
   "cell_type": "code",
   "execution_count": 3,
   "metadata": {},
   "outputs": [
    {
     "data": {
      "text/plain": [
       "200"
      ]
     },
     "execution_count": 3,
     "metadata": {},
     "output_type": "execute_result"
    }
   ],
   "source": [
    "r = requests.get(url1)\n",
    "r.status_code\n"
   ]
  },
  {
   "cell_type": "code",
   "execution_count": 4,
   "metadata": {},
   "outputs": [],
   "source": [
    "soup = BeautifulSoup(r.content,'html.parser')"
   ]
  },
  {
   "cell_type": "code",
   "execution_count": 5,
   "metadata": {},
   "outputs": [
    {
     "data": {
      "text/plain": [
       "40"
      ]
     },
     "execution_count": 5,
     "metadata": {},
     "output_type": "execute_result"
    }
   ],
   "source": [
    "link1 = \"logo_brnds\"\n",
    "cars = soup.find_all('div', class_=link1)\n",
    "# cars\n",
    "len(cars)\n",
    "# cars.get_text()"
   ]
  },
  {
   "cell_type": "code",
   "execution_count": 6,
   "metadata": {},
   "outputs": [
    {
     "name": "stdout",
     "output_type": "stream",
     "text": [
      "['Maruti Suzuki', 'Tata', 'Hyundai', 'Mahindra', 'BMW', 'Toyota', 'Mercedes-Benz', 'Land Rover', 'Kia', 'Honda', 'Audi', 'Volkswagen', 'Skoda', 'Jaguar', 'MG', 'Rolls-Royce', 'Renault', 'Jeep', 'Volvo', 'Nissan', 'Lamborghini', 'Porsche', 'Tesla', 'MINI', 'Lexus', 'Ferrari', 'Mitsubishi', 'Citroen', 'Isuzu', 'Maserati', 'Bugatti', 'Aston Martin', 'Bentley', 'McLaren', 'Force Motors', 'Haval', 'Mean Metal Motors', 'BYD', 'Fisker', 'OLA']\n"
     ]
    }
   ],
   "source": [
    "names = []\n",
    "for name in cars:\n",
    "    names.append(name.get_text())\n",
    "# a = \" ,\".join(names)\n",
    "print(names)\n",
    "\n"
   ]
  },
  {
   "cell_type": "code",
   "execution_count": 7,
   "metadata": {},
   "outputs": [
    {
     "name": "stdout",
     "output_type": "stream",
     "text": [
      "All Brands name are in Brands_name.csv file\n"
     ]
    }
   ],
   "source": [
    "# converting into csv\n",
    "with open(\"Brands_name.csv\",\"w\",encoding=\"utf8\", newline=\"\")as file:\n",
    " Writer = writer(file)\n",
    " header = [\"Brands name:\"]\n",
    " Writer.writerow(header)\n",
    "#  for i in names :\n",
    "#       Writer.writerow(i)\n",
    " Writer.writerow(names)\n",
    "\n",
    "print(\"All Brands name are in Brands_name.csv file\")"
   ]
  },
  {
   "cell_type": "markdown",
   "metadata": {},
   "source": [
    "first part done\n"
   ]
  },
  {
   "cell_type": "markdown",
   "metadata": {},
   "source": [
    "-------------------------------------------------------"
   ]
  },
  {
   "cell_type": "markdown",
   "metadata": {},
   "source": [
    "models\n"
   ]
  },
  {
   "cell_type": "markdown",
   "metadata": {},
   "source": []
  },
  {
   "cell_type": "code",
   "execution_count": 8,
   "metadata": {},
   "outputs": [
    {
     "name": "stdout",
     "output_type": "stream",
     "text": [
      "Selected Brand name is \n"
     ]
    }
   ],
   "source": [
    "Brand_name = input('''Enter the selected Brand name :\n",
    "                    (if name is of more than one word put (-)in between them).''')\n",
    "print(\"Selected Brand name is\" , Brand_name)"
   ]
  },
  {
   "cell_type": "code",
   "execution_count": 9,
   "metadata": {},
   "outputs": [
    {
     "name": "stdout",
     "output_type": "stream",
     "text": [
      "This is the website: https://www.cartrade.com/-cars/\n"
     ]
    }
   ],
   "source": [
    "url2 = \"https://www.cartrade.com/\"+ Brand_name + \"-cars/\"\n",
    "print(f'This is the website: {url2}')"
   ]
  },
  {
   "cell_type": "code",
   "execution_count": 10,
   "metadata": {},
   "outputs": [
    {
     "data": {
      "text/plain": [
       "404"
      ]
     },
     "execution_count": 10,
     "metadata": {},
     "output_type": "execute_result"
    }
   ],
   "source": [
    "r = requests.get(url2)\n",
    "r.status_code"
   ]
  },
  {
   "cell_type": "code",
   "execution_count": 11,
   "metadata": {},
   "outputs": [],
   "source": [
    "soup = BeautifulSoup(r.content,'html.parser')"
   ]
  },
  {
   "cell_type": "code",
   "execution_count": 12,
   "metadata": {},
   "outputs": [
    {
     "data": {
      "text/plain": [
       "0"
      ]
     },
     "execution_count": 12,
     "metadata": {},
     "output_type": "execute_result"
    }
   ],
   "source": [
    "link1 = \"carBrands_list\"\n",
    "cars = soup.find_all('div', class_=link1)\n",
    "# cars\n",
    "len(cars)\n",
    "# cars.get_text()"
   ]
  },
  {
   "cell_type": "code",
   "execution_count": 13,
   "metadata": {},
   "outputs": [
    {
     "name": "stdout",
     "output_type": "stream",
     "text": [
      "[]\n",
      "This are the names of all models\n"
     ]
    }
   ],
   "source": [
    "c = []\n",
    "for name in cars:  \n",
    "  a = name.find(\"div\", class_=\"makeblktlt\")\n",
    "    \n",
    "  if a != None:\n",
    "    b = a.get_text()\n",
    "    # print(b)\n",
    "    if b != None:\n",
    "       c.append(b)\n",
    "print(c)\n",
    "print(\"This are the names of all models\")\n",
    "\n",
    "# name = movie.find('td', class_='titleColumn').a.text"
   ]
  },
  {
   "cell_type": "code",
   "execution_count": 14,
   "metadata": {},
   "outputs": [
    {
     "name": "stdout",
     "output_type": "stream",
     "text": [
      "All model name are in Model_name.csv file\n"
     ]
    }
   ],
   "source": [
    "# converting into csv\n",
    "with open(\"Model_name.csv\",\"w\",encoding=\"utf8\", newline=\"\")as file:\n",
    " Writer = writer(file)\n",
    " header = [\"Model name:\"]\n",
    " Writer.writerow(header)\n",
    "#  for i in names :\n",
    "#       Writer.writerow(i)\n",
    " Writer.writerow(c)\n",
    "\n",
    "print(\"All model name are in Model_name.csv file\")"
   ]
  },
  {
   "cell_type": "markdown",
   "metadata": {},
   "source": [
    "cars"
   ]
  },
  {
   "cell_type": "markdown",
   "metadata": {},
   "source": [
    "Car Examples-"
   ]
  },
  {
   "cell_type": "code",
   "execution_count": 15,
   "metadata": {},
   "outputs": [
    {
     "name": "stdout",
     "output_type": "stream",
     "text": [
      "\n",
      "Selected model name is \n"
     ]
    }
   ],
   "source": [
    "print(Brand_name)\n",
    "Model_name = input('''Enter the selected model name :\n",
    "                    (if name is of more than one word put (-)in between them).''')\n",
    "print(\"Selected model name is\" , Model_name)"
   ]
  },
  {
   "cell_type": "code",
   "execution_count": 16,
   "metadata": {},
   "outputs": [
    {
     "data": {
      "text/plain": [
       "'https://www.cartrade.com/-cars//'"
      ]
     },
     "execution_count": 16,
     "metadata": {},
     "output_type": "execute_result"
    }
   ],
   "source": [
    "url3 = (\"https://www.cartrade.com/\"+Brand_name+\"-cars/\"+Model_name+\"/\")\n",
    "url3"
   ]
  },
  {
   "cell_type": "code",
   "execution_count": 17,
   "metadata": {},
   "outputs": [
    {
     "data": {
      "text/plain": [
       "404"
      ]
     },
     "execution_count": 17,
     "metadata": {},
     "output_type": "execute_result"
    }
   ],
   "source": [
    "r = requests.get(url3)\n",
    "r.status_code\n"
   ]
  },
  {
   "cell_type": "code",
   "execution_count": 18,
   "metadata": {},
   "outputs": [],
   "source": [
    "soup = BeautifulSoup(r.content,'html.parser')\n",
    "# print(soup.get_text)\n",
    "# print(\" \".join(soup.get_text().split()))\n",
    "\n",
    "# soup.prettify()\n",
    "# print(\" \".join(soup.prettify().split()))"
   ]
  },
  {
   "cell_type": "code",
   "execution_count": 19,
   "metadata": {},
   "outputs": [
    {
     "ename": "AttributeError",
     "evalue": "'NoneType' object has no attribute 'find_all'",
     "output_type": "error",
     "traceback": [
      "\u001b[1;31m---------------------------------------------------------------------------\u001b[0m",
      "\u001b[1;31mAttributeError\u001b[0m                            Traceback (most recent call last)",
      "\u001b[1;32mc:\\Users\\kreez\\Desktop\\College minor project\\code3.ipynb Cell 29\u001b[0m in \u001b[0;36m<module>\u001b[1;34m\u001b[0m\n\u001b[0;32m      <a href='vscode-notebook-cell:/c%3A/Users/kreez/Desktop/College%20minor%20project/code3.ipynb#X40sZmlsZQ%3D%3D?line=0'>1</a>\u001b[0m link3 \u001b[39m=\u001b[39m \u001b[39m\"\u001b[39m\u001b[39mkeySpecsBody\u001b[39m\u001b[39m\"\u001b[39m\n\u001b[1;32m----> <a href='vscode-notebook-cell:/c%3A/Users/kreez/Desktop/College%20minor%20project/code3.ipynb#X40sZmlsZQ%3D%3D?line=1'>2</a>\u001b[0m cars \u001b[39m=\u001b[39m soup\u001b[39m.\u001b[39;49mfind(\u001b[39m'\u001b[39;49m\u001b[39mtbody\u001b[39;49m\u001b[39m'\u001b[39;49m, class_\u001b[39m=\u001b[39;49mlink3)\u001b[39m.\u001b[39;49mfind_all(\u001b[39m'\u001b[39m\u001b[39mtr\u001b[39m\u001b[39m'\u001b[39m)\n\u001b[0;32m      <a href='vscode-notebook-cell:/c%3A/Users/kreez/Desktop/College%20minor%20project/code3.ipynb#X40sZmlsZQ%3D%3D?line=2'>3</a>\u001b[0m \u001b[39m# cars\u001b[39;00m\n\u001b[0;32m      <a href='vscode-notebook-cell:/c%3A/Users/kreez/Desktop/College%20minor%20project/code3.ipynb#X40sZmlsZQ%3D%3D?line=3'>4</a>\u001b[0m \u001b[39mlen\u001b[39m(cars)\n",
      "\u001b[1;31mAttributeError\u001b[0m: 'NoneType' object has no attribute 'find_all'"
     ]
    }
   ],
   "source": [
    "link3 = \"keySpecsBody\"\n",
    "cars = soup.find('tbody', class_=link3).find_all('tr')\n",
    "# cars\n",
    "len(cars)"
   ]
  },
  {
   "cell_type": "code",
   "execution_count": null,
   "metadata": {},
   "outputs": [
    {
     "name": "stdout",
     "output_type": "stream",
     "text": [
      "tata tiago\n",
      "['tata tiago', '₹  5.39 - 7.82 Lakh', 'Petrol, CNG', '20 - 26.4 km/l', '5 People', '4 Star (Global NCAP)', '2 Years or 75000 km', '1199 cc', 'Manual, Automatic (AMT)', '3765 mm L X 1677 mm W X 1535 mm H', '35L, 60L']\n"
     ]
    }
   ],
   "source": [
    "\n",
    "Car_Name         = Brand_name +\" \"+ Model_name\n",
    "Price            = cars[0].find(\"td\").get_text()\n",
    "Fuel_Type        = cars[1].find(\"td\").get_text()\n",
    "Seating_Capacity = cars[2].find(\"td\").get_text()\n",
    "Safety_Rating    = cars[3].find(\"td\").get_text()\n",
    "Warranty         = cars[4].find(\"td\").get_text()\n",
    "Engine_Size      = cars[5].find(\"td\").get_text()\n",
    "Transmission     = cars[6].find(\"td\").get_text()\n",
    "Size             = cars[7].find(\"td\").get_text()\n",
    "Fuel_Tank        = cars[8].find(\"td\").get_text()\n",
    "Ground_Clearance = cars[9].find(\"td\").get_text()\n",
    "\n",
    "Info =[Car_Name,Price,Fuel_Type,Seating_Capacity,Safety_Rating,Warranty,Engine_Size,Transmission,Size,Fuel_Tank,Ground_Clearance]\n",
    "\n",
    "print(Car_Name)   \n",
    "# print(price) \n",
    "# print(fuel_type)   \n",
    "print(Info)"
   ]
  },
  {
   "cell_type": "code",
   "execution_count": null,
   "metadata": {},
   "outputs": [],
   "source": [
    "#Converting the data into .CSV file\n",
    "with open(\"copy_Car_Details.csv\",\"w\",encoding=\"utf8\", newline=\"\")as file:\n",
    " Writer = writer(file)\n",
    " header = [\"Car_Name\",\"Price\",\"Fuel_Type\",\"Seating_Capacity\",\"Safety_Rating\",\"Warranty\",\"Engine_Size\",\"Transmission\",\"Size\",\"Fuel_Tank\",\"Ground_Clearance\"]\n",
    " Writer.writerow(header)\n",
    " Writer.writerow(Info)"
   ]
  },
  {
   "cell_type": "code",
   "execution_count": null,
   "metadata": {},
   "outputs": [],
   "source": []
  },
  {
   "cell_type": "code",
   "execution_count": null,
   "metadata": {},
   "outputs": [],
   "source": [
    "# if you want a excel file too then\n",
    "\n",
    "\n",
    "# excel= openpyxl.Workbook()\n",
    "\n",
    "# sheet = excel.active\n",
    "# sheet.title = 'Car Details'\n",
    "\n",
    "# sheet.append(header)\n",
    "# sheet.append(Info)\n",
    "# excel.save('Car_Details.xlsx')"
   ]
  }
 ],
 "metadata": {
  "kernelspec": {
   "display_name": "Python 3.9.7 64-bit",
   "language": "python",
   "name": "python3"
  },
  "language_info": {
   "codemirror_mode": {
    "name": "ipython",
    "version": 3
   },
   "file_extension": ".py",
   "mimetype": "text/x-python",
   "name": "python",
   "nbconvert_exporter": "python",
   "pygments_lexer": "ipython3",
   "version": "3.9.7"
  },
  "orig_nbformat": 4,
  "vscode": {
   "interpreter": {
    "hash": "c25cf2a356c6c26012233e9a4597f5d09508f48b164db36502f5a14ab8614f6a"
   }
  }
 },
 "nbformat": 4,
 "nbformat_minor": 2
}
